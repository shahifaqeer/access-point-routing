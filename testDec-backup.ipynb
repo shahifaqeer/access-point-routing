{
 "metadata": {
  "name": "testDec-backup"
 }, 
 "nbformat": 2, 
 "worksheets": [
  {
   "cells": [
    {
     "cell_type": "markdown", 
     "source": [
      "### Load, convert and reduce to test set", 
      "* Unfiltered data with nhops > 1", 
      "* No other constraints", 
      "* Dec 1 to Dec 10 2012"
     ]
    }, 
    {
     "cell_type": "code", 
     "collapsed": true, 
     "input": [
      "import pandas as pd", 
      "import IPy", 
      "strtoip = lambda x: IPy.IP(x)", 
      "strtodate = lambda s: datetime.datetime(int(s[0:4]),int(s[5:7]),int(s[8:10]),int(s[11:13]),int(s[14:16]),int(s[17:19]))", 
      "mactostr = lambda m: 'OW'+(m[0:2]+m[3:5]+m[6:8]+m[9:11]+m[12:14]+m[15:17]).upper()"
     ], 
     "language": "python", 
     "outputs": [], 
     "prompt_number": 55
    }, 
    {
     "cell_type": "code", 
     "collapsed": true, 
     "input": [
      "try:", 
      "    df_test = pd.load('v4/proc_data/df_test.pda')", 
      "except:", 
      "    cols1 = ['dstip','srcip','deviceid','direction','eventstamp','nhops','rhops','last_hop','last_ip','id']", 
      "    df1 = pd.read_csv(open('/home/sar/data/totally_unfiltered_1001_0101.sql','r'),", 
      "\t          delimiter = '|', names=cols1, converters = {'dstip':strtoip, 'srcip':strtoip, 'deviceid': mactostr, 'eventstamp': strtodate, 'last_ip':strtoip})", 
      "    cols2 = ['id','hop','ip']", 
      "    df2 = pd.read_csv(open('/home/sar/data/totally_unfiltered2_1001_0101.sql','r'), delimiter = '|', names=cols2, converters = {'ip':strtoip})", 
      "    df2 = df2.pivot(index='id',columns='hop',values='ip')", 
      "    #make test set Dec 1 to Dec 10", 
      "    df_test = df1[(df1['eventstamp']>datetime.datetime(2012,12,1)) & (df1['eventstamp']<datetime.datetime(2012,12,11))]", 
      "    #join to df2", 
      "    df_test = df_test.join(df2, on='id')", 
      "    pd.save(df_test, 'v4/proc_data/df_test.pda')"
     ], 
     "language": "python", 
     "outputs": [], 
     "prompt_number": 56
    }, 
    {
     "cell_type": "markdown", 
     "source": [
      "####A. Replace", 
      "- load IP:deviceid table [bismark_mgmt -> devices_log]", 
      " * if (direction = up): replace srcip with IP(deviceid, timestamp)", 
      " * if (direction = dw): replace dstip with IP(deviceid, timestamp)", 
      "", 
      "Do this later.", 
      "", 
      "For now do (B) and then separate all local IP in dstip. Disregard this data."
     ]
    }, 
    {
     "cell_type": "code", 
     "collapsed": true, 
     "input": [
      "#getDeviceIP = lambda y: devices_log.ix[(devices_log[devices_log['deviceid']==y['deviceid']]['eventstamp'].apply(lambda x: abs(x-eventstamp).total_seconds())).idxmin(), 'deviceip']", 
      "", 
      "def getDeviceIP(deviceid, eventstamp):", 
      "    '''Returns device IP for that deviceid at nearest possible timestamp''' ", 
      "    df = devices_log[devices_log['deviceid']==deviceid]", 
      "    if (len(df) == 0):", 
      "        print indx", 
      "        return nan", 
      "    else:", 
      "        df['timedelta'] = df['eventstamp'].apply(lambda x: abs(x-eventstamp).total_seconds())", 
      "        return df.ix[df['timedelta'].idxmin(),'deviceip'] "
     ], 
     "language": "python", 
     "outputs": []
    }, 
    {
     "cell_type": "code", 
     "collapsed": true, 
     "input": [
      "import pickle as pkl", 
      "try:", 
      "    devip=pkl.load(open('v4/proc_data/devip.pkl','rb'))", 
      "    no_records_id_deviceid = pkl.load(open('v4/proc_data/no_records_id_deviceid.pkl','rb'))", 
      "    df_test['deviceip'] = devip", 
      "except:", 
      "    devices_log = pd.read_csv(open('/home/sar/data/deviceIP_1201_1210.sql','r'),", 
      "                  delimiter = '|', names=['deviceid','deviceip','eventstamp'],", 
      "                  converters = {'deviceip':strtoip, 'eventstamp': strtodate})", 
      "    devip = []", 
      "    for indx in df_test.index:", 
      "        devip.append(getDeviceIP(df_test.ix[indx,'deviceid'],df_test.ix[indx,'eventstamp']))", 
      "    pkl.dump(devip,open('v4/proc_data/devip.pkl','wb'))", 
      "    no_records_devip = [14747,68203,76520,103230,110475,119494,132077,139306,158041,279836,", 
      "              284883,299711,325078,327143,335182,360508]", 
      "    no_records_id_deviceid = []", 
      "    for x in no_records_devip:", 
      "        no_records_id_deviceid.append((x, df_test.ix[x,'deviceid']))", 
      "    pkl.dump(no_records_id_deviceid,open('v4/proc_data/no_records_id_deviceid.pkl','wb'))", 
      "    df_test['deviceip'] = devip"
     ], 
     "language": "python", 
     "outputs": [], 
     "prompt_number": 57
    }, 
    {
     "cell_type": "code", 
     "collapsed": true, 
     "input": [
      "#df_test[['deviceid','eventstamp']].head()", 
      "#d1 = df3[df3['deviceid']=='OWC43DC7B0AEDB']", 
      "#d2 = df_test[df_test['deviceid']=='OWC43DC7B0AEDB']", 
      "#d2 = df_test.join(df3, on=['deviceid','eventstamp'])", 
      "#now = d['eventstamp'][20]", 
      "#print now", 
      "#now + datetime.timedelta(minutes = 5)", 
      "#d2 = d.join(df3, on=['deviceid','eventstamp'])", 
      "#df3[(df3['deviceid'] == 'OWC43DC7B0AEDB') & (df3['eventstamp'] == d['eventstamp'][20])]", 
      "", 
      "#eventstamp = datetime.datetime(2012,12,9,20,11,2)", 
      "#print eventstamp", 
      "#df = df_test", 
      "#df['timedelta'] = df['eventstamp'].apply(lambda x: abs(x-eventstamp).total_seconds())", 
      "#df2.ix[df['timedelta'].idxmin(),'deviceip']"
     ], 
     "language": "python", 
     "outputs": []
    }, 
    {
     "cell_type": "markdown", 
     "source": [
      "####1. dstip is NAT - df_local", 
      "", 
      "Separate those with dstip.iptype = 'PRIVATE'"
     ]
    }, 
    {
     "cell_type": "code", 
     "collapsed": true, 
     "input": [
      "df_local = df_test[df_test['dstip'].apply(lambda x: x.iptype()) == 'PRIVATE']", 
      "df_test = df_test[df_test['dstip'].apply(lambda x: x.iptype()) != 'PRIVATE']"
     ], 
     "language": "python", 
     "outputs": [], 
     "prompt_number": 58
    }, 
    {
     "cell_type": "code", 
     "collapsed": false, 
     "input": [
      "print \"Number of LOCAL dstip = \",len(df_local)", 
      "print \"Number of OK dstip = \",len(df_test)"
     ], 
     "language": "python", 
     "outputs": [
      {
       "output_type": "stream", 
       "stream": "stdout", 
       "text": [
        "Number of LOCAL dstip =  2570", 
        "Number of OK dstip =  42096"
       ]
      }
     ], 
     "prompt_number": 59
    }, 
    {
     "cell_type": "markdown", 
     "source": [
      "####2. dstip NOT IN traceroute - df_incomplete"
     ]
    }, 
    {
     "cell_type": "code", 
     "collapsed": false, 
     "input": [
      "#check last_hop = dstip or last_hop = deviceid when direction = dw", 
      "#df_incomplete = df_test[(df_test['last_ip']!=df_test['dstip']) | ((df_test['last_ip']!=df_test['deviceip']) & (df_test['direction'] == 'dw'))]", 
      "#print len(df_incomplete)", 
      "df_incomplete1 = df_test[(df_test['last_ip']!=df_test['deviceip']) & (df_test['direction'] == 'dw')]", 
      "print len(df_incomplete1)", 
      "df_incomplete2 = df_test[(df_test['last_ip']!=df_test['dstip']) & (df_test['direction'] == 'up')]", 
      "print len(df_incomplete2)", 
      "df_complete = df_test[((df_test['last_ip']==df_test['deviceip']) & (df_test['direction'] == 'dw'))", 
      "                      | ((df_test['last_ip']==df_test['dstip']) & (df_test['direction'] == 'up'))]", 
      "print len(df_complete)"
     ], 
     "language": "python", 
     "outputs": [
      {
       "output_type": "stream", 
       "stream": "stdout", 
       "text": [
        "6797", 
        "1762"
       ]
      }, 
      {
       "output_type": "stream", 
       "stream": "stdout", 
       "text": [
        "", 
        "33537"
       ]
      }, 
      {
       "output_type": "stream", 
       "stream": "stdout", 
       "text": []
      }
     ], 
     "prompt_number": 60
    }, 
    {
     "cell_type": "code", 
     "collapsed": false, 
     "input": [
      "df_up = df_complete[df_complete['direction'] == 'up']", 
      "df_dw = df_complete[df_complete['direction'] == 'dw']", 
      "print \"UP:\",len(df_up)", 
      "print \"DW:\",len(df_dw)"
     ], 
     "language": "python", 
     "outputs": [
      {
       "output_type": "stream", 
       "stream": "stdout", 
       "text": [
        "UP: 20367", 
        "DW: 13170"
       ]
      }
     ], 
     "prompt_number": 61
    }, 
    {
     "cell_type": "markdown", 
     "source": [
      "####3. Any IP is repeated in traceroute ?", 
      "####Check for loops in traceroute", 
      "- if contiguous - df_repeat", 
      "- if discontiguous - df_loop"
     ]
    }, 
    {
     "cell_type": "code", 
     "collapsed": true, 
     "input": [
      "#df_test['noLoops'] = 1", 
      "#for indx in df_test.index:", 
      "#    pathlist = [df_test.ix[indx,x] for x in range(31) if type(df_test.ix[indx,x])!=float]", 
      "#    if len(set(pathlist)) != len(pathlist):", 
      "#        df_test[indx,'noLoops'] = 0"
     ], 
     "language": "python", 
     "outputs": []
    }, 
    {
     "cell_type": "markdown", 
     "source": [
      "####B. Merge ?", 
      "- take /24 of dstip and srcip", 
      " * dstip.makenet('24').net()", 
      " * srcip.makenet('24').net()", 
      "- take /24 of all IP? - ask"
     ]
    }, 
    {
     "cell_type": "code", 
     "collapsed": true, 
     "input": [
      "#prefix32to24 = lambda x: x.make_net('24').net()", 
      "#df_test[['dstip','srcip']] = df_test[['dstip','srcip']].applymap(prefix32to24)"
     ], 
     "language": "python", 
     "outputs": []
    }, 
    {
     "cell_type": "markdown", 
     "source": [
      "###Mark true_last_hop ?", 
      "- at FIRST occurance of dstip in traceroute", 
      "- if true_last_hop != nhops -> df_disregard", 
      "- delete part after true_last_hop"
     ]
    }, 
    {
     "cell_type": "code", 
     "collapsed": true, 
     "input": [
      "#"
     ], 
     "language": "python", 
     "outputs": []
    }, 
    {
     "cell_type": "markdown", 
     "source": [
      "###DataFrame is now ready for analysis!", 
      "Work on segregating paths for each deviceip, direction tuple"
     ]
    }, 
    {
     "cell_type": "code", 
     "collapsed": false, 
     "input": [
      "#did not remove loops yet", 
      "grouped = df_up.groupby('deviceid')", 
      "#up_deviceid = ", 
      "#up_items = dict(up_deviceid.groups.items())", 
      "#up_id = df_up[df_up['deviceid']==up_deviceid[0]]['id']", 
      "e = grouped['id']", 
      "f = pd.DataFrame(e.head())", 
      "f = f.reset_index().rename(columns = {'level_1':'indx', 0:'id'})", 
      "f = f.set_index('indx')", 
      "f.head()", 
      "e2 = grouped['eventstamp']", 
      "f2 = pd.DataFrame(e2.head())", 
      "f2 = f2.reset_index().rename(columns = {'level_1':'indx', 0:'eventstamp'})", 
      "f2 = f2.set_index('indx')", 
      "f['eventstamp'] = f2['eventstamp']"
     ], 
     "language": "python", 
     "outputs": [
      {
       "output_type": "pyout", 
       "prompt_number": 187, 
       "text": [
        "<class 'pandas.core.frame.DataFrame'>", 
        "MultiIndex: 563 entries, (OW204E7F5B1209, 104611) to (OWC43DC7B0D2D2, 363450)", 
        "Data columns:", 
        "dstip         563  non-null values", 
        "srcip         563  non-null values", 
        "deviceid      563  non-null values", 
        "direction     563  non-null values", 
        "eventstamp    563  non-null values", 
        "nhops         563  non-null values", 
        "rhops         563  non-null values", 
        "last_hop      563  non-null values", 
        "last_ip       563  non-null values", 
        "id            563  non-null values", 
        "1             538  non-null values", 
        "2             535  non-null values", 
        "3             537  non-null values", 
        "4             531  non-null values", 
        "5             525  non-null values", 
        "6             540  non-null values", 
        "7             541  non-null values", 
        "8             501  non-null values", 
        "9             427  non-null values", 
        "10            396  non-null values", 
        "11            345  non-null values", 
        "12            249  non-null values", 
        "13            181  non-null values", 
        "14            118  non-null values", 
        "15            88  non-null values", 
        "16            52  non-null values", 
        "17            50  non-null values", 
        "18            42  non-null values", 
        "19            27  non-null values", 
        "20            17  non-null values", 
        "21            14  non-null values", 
        "22            10  non-null values", 
        "23            5  non-null values", 
        "24            0  non-null values", 
        "25            1  non-null values", 
        "26            0  non-null values", 
        "27            0  non-null values", 
        "28            0  non-null values", 
        "29            0  non-null values", 
        "30            0  non-null values", 
        "deviceip      558  non-null values", 
        "dtypes: int64(3), object(38)"
       ]
      }
     ], 
     "prompt_number": 187
    }, 
    {
     "cell_type": "code", 
     "collapsed": true, 
     "input": [
      "up_id = df_up[df_up['deviceid']==up_deviceid[0]]['id']"
     ], 
     "language": "python", 
     "outputs": []
    }, 
    {
     "cell_type": "code", 
     "collapsed": true, 
     "input": [
      "len(grouped.groups.keys())"
     ], 
     "language": "python", 
     "outputs": []
    }, 
    {
     "cell_type": "code", 
     "collapsed": true, 
     "input": [], 
     "language": "python", 
     "outputs": []
    }, 
    {
     "cell_type": "code", 
     "collapsed": true, 
     "input": [], 
     "language": "python", 
     "outputs": []
    }, 
    {
     "cell_type": "markdown", 
     "source": []
    }, 
    {
     "cell_type": "code", 
     "collapsed": true, 
     "input": [
      "cols = map(str,d.columns)", 
      "df_up_grouped = df_up.groupby(cols[:-2])", 
      "df_dw_grouped = df_dw.groupby(cols[:-2])", 
      "cols", 
      "indx_inc_up = []", 
      "try:", 
      "    for n,g in d_grouped:", 
      "        print 'direction',n[3]", 
      "        #temp = g[g.ip==n[0]]", 
      "        #if (len(temp) < 1):", 
      "            #print 'dstip',n[0], 'scrip',n[1]", 
      "            #print 'nhops = ',n[5], 'rhops = ',n[6], 'last hop =',n[7], 'last ip = ',n[8]", 
      "            #print 'real last hop', g[g.ip==n[0]]['hop']", 
      "            #print 'index=',g.index", 
      "            #indx_incomplete2 = indx_incomplete2 + list(g.index)", 
      "        #elif (temp['hop']!=n[7]):", 
      "        #    print 'last hop != dstip index', temp['hop']", 
      "except:", 
      "    print n,g"
     ], 
     "language": "python", 
     "outputs": []
    }, 
    {
     "cell_type": "code", 
     "collapsed": true, 
     "input": [
      "d_up = df_up.merge(df2)", 
      "cols = map(str,d_up.columns)", 
      "d_group_up = d_up.groupby(cols[:-2])", 
      "cols2 = cols[:-3]", 
      "cols2.append('localip')", 
      "print cols2", 
      "d_dw = df_dw.merge(df2)", 
      "d_group_dw = d_dw.groupby(cols2)", 
      "cols2", 
      "indx_incomplete1 = []", 
      "try:", 
      "    for n,g in d_group_up:", 
      "        temp = g[g.ip==n[0]]", 
      "        if (len(temp) < 1):", 
      "            #print 'dstip',n[0], 'scrip',n[1]", 
      "            #print 'nhops = ',n[5], 'rhops = ',n[6], 'last hop =',n[7], 'last ip = ',n[8]", 
      "            #print 'real last hop', g[g.ip==n[0]]['hop']", 
      "            #print 'index=',g.index", 
      "            indx_incomplete1 = indx_incomplete1 + list(g.index)", 
      "        elif (temp['hop']!=n[7]):", 
      "            print 'last hop != dstip index', temp['hop']", 
      "except:", 
      "    print n,g", 
      "indx_incomplete2 = []", 
      "try:", 
      "    for n,g in d_group_dw:", 
      "        temp = g[g.ip==n[0]]", 
      "        if (len(temp) < 1):", 
      "            #print 'dstip',n[0], 'scrip',n[1]", 
      "            #print 'nhops = ',n[5], 'rhops = ',n[6], 'last hop =',n[7], 'last ip = ',n[8]", 
      "            #print 'real last hop', g[g.ip==n[0]]['hop']", 
      "            #print 'index=',g.index", 
      "            indx_incomplete2 = indx_incomplete2 + list(g.index)", 
      "        elif (temp['hop']!=n[7]):", 
      "            print 'last hop != dstip index', temp['hop']", 
      "except:", 
      "    print n,g", 
      "df_unknown_dw = df_dw[df_dw['last_ip'] != df_dw['dstip']]", 
      "df_success_dw = df_dw[df_dw['last_ip'] == df_dw['dstip']]", 
      "print len(df_unknown_dw)", 
      "print len(df_success_dw)", 
      "df_unknown_up = df_up[df_up['last_ip'] != df_up['dstip']]", 
      "df_success_up = df_up[df_up['last_ip'] == df_up['dstip']]", 
      "print len(df_unknown_up)", 
      "print len(df_success_up)"
     ], 
     "language": "python", 
     "outputs": []
    }, 
    {
     "cell_type": "code", 
     "collapsed": true, 
     "input": [
      "len(indx_incomplete)", 
      "g['ip']", 
      "print x", 
      "print type(y)", 
      "print type(z)", 
      "print z==x"
     ], 
     "language": "python", 
     "outputs": []
    }, 
    {
     "cell_type": "code", 
     "collapsed": true, 
     "input": [
      "#def find_dst(group):", 
      "    #row = group.irow(0)", 
      "    #return DataFrame({'class': [row['id']] * row['count']})", 
      "    #lambda x: df2[df2['id']==x]", 
      "#df_up['id'].apply(", 
      "#x = df_dw[:10]", 
      "#.groupby(['id','dstip']).apply(", 
      "#g = x.groupby(['id','dstip'])", 
      "#def find_dst(x):", 
      "#    row = x.irow(0)", 
      "#    print row", 
      "#    return row['dstip']", 
      "    #return pd.DataFrame({'path': row['dstip']})", 
      "    #id = x['id']", 
      "    #print str(id)", 
      "    #sliced = df2[df2['id']=='0000af0a2861c3d4380d216304a8638a3fec31ed'].drop_duplicates(['ip'])", 
      "    #return 1", 
      "    #sliced = df2[df2['id']==x.id].drop_duplicates(['ip'])", 
      "    #if x.dstip in sliced['ip']:", 
      "    #    return sliced[sliced['ip']==x.dstip]['hop']", 
      "    #else:", 
      "    #    return nan", 
      "#g.apply(find_dst)"
     ], 
     "language": "python", 
     "outputs": []
    }, 
    {
     "cell_type": "code", 
     "collapsed": true, 
     "input": [
      "df_up_full = pd.merge(df_up, df2, how='left',on='id')", 
      "df_dw_full = pd.merge(df_dw, df2, how='left',on='id')"
     ], 
     "language": "python", 
     "outputs": []
    }
   ]
  }
 ]
}