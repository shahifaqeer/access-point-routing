{
 "metadata": {
  "name": "OctNov"
 }, 
 "nbformat": 2, 
 "worksheets": [
  {
   "cells": [
    {
     "cell_type": "markdown", 
     "source": [
      "##1. Data", 
      "Join traceroutes and traceroute_hops for dates 10-01-2012 to 11-30-2012.", 
      "No assumptions made, data unfiltered.", 
      "Save as pandas df and path hash table"
     ]
    }, 
    {
     "cell_type": "code", 
     "collapsed": true, 
     "input": [
      "import pandas as pd", 
      "import pickle as pkl", 
      "", 
      "#pandas dataframe, paths are hashed to numbers", 
      "traceroute = pd.load('v4/proc_data/test1/traceroute.pda')", 
      "#hash number to path OR path to number (1-1)", 
      "num2path = pkl.load(open('v4/proc_data/test1/num2path.out','rb'))", 
      "path2num = pkl.load(open('v4/proc_data/test1/path2num.out','rb'))"
     ], 
     "language": "python", 
     "outputs": [], 
     "prompt_number": 1
    }, 
    {
     "cell_type": "code", 
     "collapsed": true, 
     "input": [
      "#save traceroute_hops as multi-indexed pandas dataframe ipHashDF: path_num | (hop_num, IP)", 
      "from v3.src.penalty import *", 
      "from v4.src.append_whois import append_whois_info", 
      "", 
      "try:", 
      "    ipHashDF = pd.load('v4/proc_data/test1/ipHashDF.pda')", 
      "except:", 
      "    n2p = num2path.items()", 
      "    x,y = zip(*n2p)", 
      "    indx = []", 
      "    hop_num = []", 
      "    ip = []", 
      "    for i in x:", 
      "        for j in y[i]:", 
      "            indx.append(i)", 
      "            hop_num.append(j[0])", 
      "            ip.append(j[1])", 
      "    ipHashDF = pd.DataFrame({'ip':ip}, index=[indx,hop_num])", 
      "    ipHashDF.index.names = ['path_num', 'hop']", 
      "    ", 
      "    #convert IP (string) to IP (hex) and save it in dataframe", 
      "    #IP (hex) may even help us to order data in ascending IPs and classify it as part of 1 AS etc.", 
      "    ipHashDF['ip_int'] = ipHashDF['ip'].apply(iptoint)", 
      "    #ipHashDF.groupby(['ip_int','ip']).size()", 
      "    ", 
      "    #add in AS info from bulkwhois", 
      "    append_whois_info(ipHashDF)", 
      "    ", 
      "    ipHashDF.save('v4/proc_data/test1/ipHashDF.pda')"
     ], 
     "language": "python", 
     "outputs": [], 
     "prompt_number": 3
    }, 
    {
     "cell_type": "code", 
     "collapsed": false, 
     "input": [
      "df = traceroute.rename(columns = {'id':'ippath'})", 
      "recorded_lengths = map(lambda x: len(num2path[x]), df['ippath'])", 
      "#update dataframe with recorded lengths", 
      "df['rhops'] = recorded_lengths", 
      "print df.ix[0]", 
      "print \"\\nPath[0] is a tuple of (hop, IP): \"", 
      "print list(zip(*num2path[df.ix[0,'ippath']])[1])"
     ], 
     "language": "python", 
     "outputs": [
      {
       "output_type": "stream", 
       "stream": "stdout", 
       "text": [
        "deviceid     20:4e:7f:80:5d:e7", 
        "srcip            175.142.139.4", 
        "dstip             203.5.76.159", 
        "direction                   up", 
        "hops                        10", 
        "time                  20:19:13", 
        "date                2012-11-28", 
        "ippath                       0", 
        "rhops                       10", 
        "Name: 0", 
        "", 
        "Path[0] is a tuple of (hop, IP): ", 
        "['115.132.110.118', '175.144.91.137', '10.55.208.75', '203.192.169.37', '61.14.157.129', '61.14.157.110', '202.147.33.174', '202.158.194.9', '202.158.202.19', '203.5.76.159']"
       ]
      }
     ], 
     "prompt_number": 4
    }, 
    {
     "cell_type": "markdown", 
     "source": [
      "Segregate data"
     ]
    }, 
    {
     "cell_type": "code", 
     "collapsed": true, 
     "input": [
      "#valid data => rhops = hops AND dstip = last(path)", 
      "", 
      "def validate(x):", 
      "    try:", 
      "        return num2path[x][-1][1]", 
      "    except:", 
      "        return 0", 
      "#df.ix[:20,'dstip'] == map(validate,df.ix[:20,'ippath'])"
     ], 
     "language": "python", 
     "outputs": [], 
     "prompt_number": 48
    }, 
    {
     "cell_type": "code", 
     "collapsed": true, 
     "input": [
      "df['valid'] = (df['rhops']==df['hops']) & (df['dstip']==map(validate,df['ippath']))"
     ], 
     "language": "python", 
     "outputs": [], 
     "prompt_number": 49
    }, 
    {
     "cell_type": "code", 
     "collapsed": true, 
     "input": [
      "valid = df[df['valid']]"
     ], 
     "language": "python", 
     "outputs": [], 
     "prompt_number": 52
    }, 
    {
     "cell_type": "code", 
     "collapsed": false, 
     "input": [], 
     "language": "python", 
     "outputs": [
      {
       "output_type": "pyout", 
       "prompt_number": 51, 
       "text": [
        "<class 'pandas.core.frame.DataFrame'>", 
        "Int64Index: 251371 entries, 0 to 251370", 
        "Data columns:", 
        "deviceid     251371  non-null values", 
        "srcip        251371  non-null values", 
        "dstip        251371  non-null values", 
        "direction    251371  non-null values", 
        "hops         251371  non-null values", 
        "time         251371  non-null values", 
        "date         251371  non-null values", 
        "ippath       251371  non-null values", 
        "rhops        251371  non-null values", 
        "valid        251371  non-null values", 
        "dtypes: bool(1), int64(2), object(7)"
       ]
      }
     ], 
     "prompt_number": 51
    }, 
    {
     "cell_type": "code", 
     "collapsed": true, 
     "input": [], 
     "language": "python", 
     "outputs": []
    }, 
    {
     "cell_type": "code", 
     "collapsed": true, 
     "input": [], 
     "language": "python", 
     "outputs": []
    }, 
    {
     "cell_type": "code", 
     "collapsed": true, 
     "input": [], 
     "language": "python", 
     "outputs": []
    }, 
    {
     "cell_type": "markdown", 
     "source": []
    }, 
    {
     "cell_type": "code", 
     "collapsed": true, 
     "input": [
      "pathDF = df[['srcip','dstip','time','date','hops','ippath']]", 
      "f1 = pathDF.groupby(['srcip','dstip','ippath','hops'])", 
      "indx = f1.groups.values()", 
      "keys = f1.groups.keys()", 
      "f2 = f1.size().reset_index()", 
      "f2.columns=['srcip','dstip','ippath','hops','count']"
     ], 
     "language": "python", 
     "outputs": [], 
     "prompt_number": 81
    }, 
    {
     "cell_type": "code", 
     "collapsed": false, 
     "input": [
      "f2.sort_index()", 
      "f2.head()"
     ], 
     "language": "python", 
     "outputs": [
      {
       "html": [
        "<div style=\"max-height:1000px;max-width:1500px;overflow:auto;\">", 
        "<table border=\"1\" class=\"dataframe\">", 
        "  <thead>", 
        "    <tr style=\"text-align: right;\">", 
        "      <th></th>", 
        "      <th>srcip</th>", 
        "      <th>dstip</th>", 
        "      <th>ippath</th>", 
        "      <th>hops</th>", 
        "      <th>count</th>", 
        "    </tr>", 
        "  </thead>", 
        "  <tbody>", 
        "    <tr>", 
        "      <td><strong>0</strong></td>", 
        "      <td> 1.23.65.117</td>", 
        "      <td> 213.200.99.210</td>", 
        "      <td>  6412</td>", 
        "      <td> 12</td>", 
        "      <td> 1</td>", 
        "    </tr>", 
        "    <tr>", 
        "      <td><strong>1</strong></td>", 
        "      <td> 1.23.65.124</td>", 
        "      <td> 213.200.99.210</td>", 
        "      <td> 37475</td>", 
        "      <td> 12</td>", 
        "      <td> 1</td>", 
        "    </tr>", 
        "    <tr>", 
        "      <td><strong>2</strong></td>", 
        "      <td> 1.23.65.124</td>", 
        "      <td> 213.200.99.210</td>", 
        "      <td> 37547</td>", 
        "      <td> 12</td>", 
        "      <td> 1</td>", 
        "    </tr>", 
        "    <tr>", 
        "      <td><strong>3</strong></td>", 
        "      <td> 1.23.65.124</td>", 
        "      <td> 213.200.99.223</td>", 
        "      <td> 37369</td>", 
        "      <td> 12</td>", 
        "      <td> 1</td>", 
        "    </tr>", 
        "    <tr>", 
        "      <td><strong>4</strong></td>", 
        "      <td> 1.23.65.124</td>", 
        "      <td> 213.200.99.223</td>", 
        "      <td> 37448</td>", 
        "      <td> 12</td>", 
        "      <td> 1</td>", 
        "    </tr>", 
        "  </tbody>", 
        "</table>", 
        "</div>"
       ], 
       "output_type": "pyout", 
       "prompt_number": 83, 
       "text": [
        "         srcip           dstip  ippath  hops  count", 
        "0  1.23.65.117  213.200.99.210    6412    12      1", 
        "1  1.23.65.124  213.200.99.210   37475    12      1", 
        "2  1.23.65.124  213.200.99.210   37547    12      1", 
        "3  1.23.65.124  213.200.99.223   37369    12      1", 
        "4  1.23.65.124  213.200.99.223   37448    12      1"
       ]
      }
     ], 
     "prompt_number": 83
    }, 
    {
     "cell_type": "code", 
     "collapsed": true, 
     "input": [
      "f3 = f2.groupby(['srcip','dstip'])['count'].agg([np.sum, np.mean, np.std, np.max, np.min, len])", 
      "fc = f3[f3['sum']>10]", 
      "fc['max_prevalent'] = f3['amax']/f3['sum']"
     ], 
     "language": "python", 
     "outputs": [], 
     "prompt_number": 232
    }, 
    {
     "cell_type": "code", 
     "collapsed": true, 
     "input": [
      "f4 = fc.copy()[['sum','max_prevalent']]", 
      "f5 = f4.sort('max_prevalent', ascending=False)['max_prevalent'].round(3)", 
      "#f4[f4['sum']>100].sort('max_prevalent', ascending=False)['max_prevalent'].plot()"
     ], 
     "language": "python", 
     "outputs": [], 
     "prompt_number": 233
    }, 
    {
     "cell_type": "code", 
     "collapsed": false, 
     "input": [
      "figure(figsize = (12,7))", 
      "hist(f5, bins=10)", 
      "xlabel('prevalence of major path')", 
      "ylabel('number of src-dst pairs')"
     ], 
     "language": "python", 
     "outputs": [
      {
       "output_type": "pyout", 
       "prompt_number": 242, 
       "text": [
        "<matplotlib.text.Text at 0x1605536c>"
       ]
      }, 
      {
       "output_type": "display_data", 
       "png": "[encoded data removed]"
      }
     ], 
     "prompt_number": 242
    }, 
    {
     "cell_type": "code", 
     "collapsed": false, 
     "input": [
      "figure(figsize=(14,7))", 
      "fc.groupby('len').size()[:50].plot(kind='bar')", 
      "xlabel('number of paths')", 
      "ylabel('number of src-dst pairs')"
     ], 
     "language": "python", 
     "outputs": [
      {
       "output_type": "pyout", 
       "prompt_number": 235, 
       "text": [
        "<matplotlib.text.Text at 0x16bc8b6c>"
       ]
      }, 
      {
       "output_type": "display_data", 
       "png": "[encoded data removed]"
      }
     ], 
     "prompt_number": 235
    }, 
    {
     "cell_type": "code", 
     "collapsed": false, 
     "input": [
      "figure(figsize=(16,7))", 
      "fx = fc", 
      "fx['max_prevalent'] = fc['max_prevalent'].round(1)", 
      "fx.groupby('max_prevalent').size().plot(kind='bar')", 
      "xlabel('prevalence of major path')", 
      "ylabel('number of src-dst pairs')"
     ], 
     "language": "python", 
     "outputs": [
      {
       "output_type": "pyout", 
       "prompt_number": 241, 
       "text": [
        "<matplotlib.text.Text at 0x1655d70c>"
       ]
      }, 
      {
       "output_type": "display_data", 
       "png": "[encoded data removed]"
      }
     ], 
     "prompt_number": 241
    }, 
    {
     "cell_type": "code", 
     "collapsed": false, 
     "input": [
      "fc.groupby('len').size().tail()"
     ], 
     "language": "python", 
     "outputs": [
      {
       "output_type": "pyout", 
       "prompt_number": 237, 
       "text": [
        "len", 
        "618     1", 
        "669     1", 
        "802     1", 
        "1051    1", 
        "1113    1"
       ]
      }
     ], 
     "prompt_number": 237
    }, 
    {
     "cell_type": "code", 
     "collapsed": false, 
     "input": [
      "print ipHashDF.head()", 
      "num2path[0][-1][1]"
     ], 
     "language": "python", 
     "outputs": [
      {
       "output_type": "stream", 
       "stream": "stdout", 
       "text": [
        "                           ip      ip_int    asn  cc        bgp_prefix", 
        "path_num hop                                                          ", 
        "0        1    115.132.110.118  1938058870   4788  MY   115.132.64.0/18", 
        "         2     175.144.91.137  2945473417   4788  MY   175.144.64.0/18", 
        "         3       10.55.208.75   171429963          -                  ", 
        "         4     203.192.169.37  3418401061  10026  AU  203.192.128.0/18", 
        "         5      61.14.157.129  1024368001  10026  JP    61.14.128.0/18"
       ]
      }, 
      {
       "output_type": "pyout", 
       "prompt_number": 9, 
       "text": [
        "'203.5.76.159'"
       ]
      }
     ], 
     "prompt_number": 9
    }, 
    {
     "cell_type": "code", 
     "collapsed": false, 
     "input": [
      "pathDF.head()"
     ], 
     "language": "python", 
     "outputs": [
      {
       "html": [
        "<div style=\"max-height:1000px;max-width:1500px;overflow:auto;\">", 
        "<table border=\"1\" class=\"dataframe\">", 
        "  <thead>", 
        "    <tr style=\"text-align: right;\">", 
        "      <th></th>", 
        "      <th>srcip</th>", 
        "      <th>dstip</th>", 
        "      <th>time</th>", 
        "      <th>date</th>", 
        "      <th>hops</th>", 
        "      <th>ippath</th>", 
        "    </tr>", 
        "  </thead>", 
        "  <tbody>", 
        "    <tr>", 
        "      <td><strong>0</strong></td>", 
        "      <td>   175.142.139.4</td>", 
        "      <td>    203.5.76.159</td>", 
        "      <td> 20:19:13</td>", 
        "      <td> 2012-11-28</td>", 
        "      <td> 10</td>", 
        "      <td> 0</td>", 
        "    </tr>", 
        "    <tr>", 
        "      <td><strong>1</strong></td>", 
        "      <td>     88.5.198.99</td>", 
        "      <td> 213.200.103.159</td>", 
        "      <td> 20:13:12</td>", 
        "      <td> 2012-11-28</td>", 
        "      <td>  8</td>", 
        "      <td> 1</td>", 
        "    </tr>", 
        "    <tr>", 
        "      <td><strong>2</strong></td>", 
        "      <td> 173.164.212.198</td>", 
        "      <td>    64.9.225.140</td>", 
        "      <td> 20:00:08</td>", 
        "      <td> 2012-11-28</td>", 
        "      <td> 11</td>", 
        "      <td> 2</td>", 
        "    </tr>", 
        "    <tr>", 
        "      <td><strong>3</strong></td>", 
        "      <td> 203.178.130.210</td>", 
        "      <td>  58.182.191.129</td>", 
        "      <td> 20:10:23</td>", 
        "      <td> 2012-11-28</td>", 
        "      <td> 24</td>", 
        "      <td> 3</td>", 
        "    </tr>", 
        "    <tr>", 
        "      <td><strong>4</strong></td>", 
        "      <td>    4.71.254.140</td>", 
        "      <td>     76.97.68.93</td>", 
        "      <td> 20:20:17</td>", 
        "      <td> 2012-11-28</td>", 
        "      <td> 20</td>", 
        "      <td> 4</td>", 
        "    </tr>", 
        "  </tbody>", 
        "</table>", 
        "</div>"
       ], 
       "output_type": "pyout", 
       "prompt_number": 157, 
       "text": [
        "             srcip            dstip      time        date  hops ippath", 
        "0    175.142.139.4     203.5.76.159  20:19:13  2012-11-28    10      0", 
        "1      88.5.198.99  213.200.103.159  20:13:12  2012-11-28     8      1", 
        "2  173.164.212.198     64.9.225.140  20:00:08  2012-11-28    11      2", 
        "3  203.178.130.210   58.182.191.129  20:10:23  2012-11-28    24      3", 
        "4     4.71.254.140      76.97.68.93  20:20:17  2012-11-28    20      4"
       ]
      }
     ], 
     "prompt_number": 157
    }, 
    {
     "cell_type": "markdown", 
     "source": [
      "###Some details", 
      "Print some stats for this 2 month dataset"
     ]
    }, 
    {
     "cell_type": "code", 
     "collapsed": false, 
     "input": [
      "print \"Number of different paths in unfiltered data = \", len(path2num)", 
      "print \"Total working unique devices (BISMark routers) in our dataset = \", len(df.groupby('deviceid').size())", 
      "nevents = df.shape[0]", 
      "print \"Total number of unique measurements in dataset (each event)= \",nevents"
     ], 
     "language": "python", 
     "outputs": [
      {
       "output_type": "stream", 
       "stream": "stdout", 
       "text": [
        "Number of different paths in unfiltered data =  50037", 
        "Total working unique devices (BISMark routers) in our dataset =  "
       ]
      }, 
      {
       "output_type": "stream", 
       "stream": "stdout", 
       "text": [
        "142", 
        "Total number of unique measurements in dataset (each event)=  251371"
       ]
      }
     ], 
     "prompt_number": 6
    }, 
    {
     "cell_type": "code", 
     "collapsed": false, 
     "input": [
      "print \"Number of unique USERS sending data to servers (direction = up) = \", len(df[df['direction']=='up'].groupby(['srcip']).size())", 
      "print \"Number of unique SERVERS receiving data from users (direction = up) = \", len(df[df['direction']=='up'].groupby(['dstip']).size())", 
      "print \"Number of unique ROUTERS sending data from user to server (direction = up) = \", len(df[df['direction']=='up'].groupby('deviceid').size())", 
      "print \"Number of unique SERVERS sending data to users (direction = dw) = \", len(df[df['direction']=='dw'].groupby(['srcip']).size())", 
      "print \"Number of unique USERS receiving data from servers (direction = dw) = \", len(df[df['direction']=='dw'].groupby(['dstip']).size())", 
      "print \"Number of unique ROUTERS receiving data from user to server (direction = dw) = \", len(df[df['direction']=='dw'].groupby('deviceid').size())"
     ], 
     "language": "python", 
     "outputs": [
      {
       "output_type": "stream", 
       "stream": "stdout", 
       "text": [
        "Number of unique USERS sending data to servers (direction = up) =  "
       ]
      }, 
      {
       "output_type": "stream", 
       "stream": "stdout", 
       "text": [
        "1544", 
        "Number of unique SERVERS receiving data from users (direction = up) =  "
       ]
      }, 
      {
       "output_type": "stream", 
       "stream": "stdout", 
       "text": [
        "53", 
        "Number of unique ROUTERS sending data from user to server (direction = up) =  "
       ]
      }, 
      {
       "output_type": "stream", 
       "stream": "stdout", 
       "text": [
        "142", 
        "Number of unique SERVERS sending data to users (direction = dw) =  "
       ]
      }, 
      {
       "output_type": "stream", 
       "stream": "stdout", 
       "text": [
        "53", 
        "Number of unique USERS receiving data from servers (direction = dw) =  "
       ]
      }, 
      {
       "output_type": "stream", 
       "stream": "stdout", 
       "text": [
        "1539", 
        "Number of unique ROUTERS receiving data from user to server (direction = dw) =  "
       ]
      }, 
      {
       "output_type": "stream", 
       "stream": "stdout", 
       "text": [
        "141"
       ]
      }
     ], 
     "prompt_number": 7
    }, 
    {
     "cell_type": "code", 
     "collapsed": false, 
     "input": [
      "#Is one source connected to many servers or just one?", 
      "# device is on source side when direction = up. then dstip is server", 
      "g = df[df['direction']=='up']", 
      "print \"Number of different deviceids in considered data = \", len(g.groupby('deviceid').size())", 
      "print \"Number of unique device-destination tuples in data = \", len(g.groupby(['deviceid','dstip']).size())", 
      "print \"Number of unique source-destination tuples in data = \", len(g.groupby(['srcip','dstip']).size())"
     ], 
     "language": "python", 
     "outputs": [
      {
       "output_type": "stream", 
       "stream": "stdout", 
       "text": [
        "Number of different deviceids in considered data =  142", 
        "Number of unique device-destination tuples in data =  "
       ]
      }, 
      {
       "output_type": "stream", 
       "stream": "stdout", 
       "text": [
        "402", 
        "Number of unique source-destination tuples in data =  "
       ]
      }, 
      {
       "output_type": "stream", 
       "stream": "stdout", 
       "text": [
        "3117"
       ]
      }
     ], 
     "prompt_number": 8
    }, 
    {
     "cell_type": "markdown", 
     "source": [
      "####Sometimes not all hops are recorded."
     ]
    }, 
    {
     "cell_type": "code", 
     "collapsed": false, 
     "input": [
      "print \"Average/STD of number of hops = \", mean(df['hops']), std(df['hops'])", 
      "print \"Average/STD of number of recorded hops = \", mean(recorded_lengths), std(recorded_lengths)"
     ], 
     "language": "python", 
     "outputs": [
      {
       "output_type": "stream", 
       "stream": "stdout", 
       "text": [
        "Average/STD of number of hops =  14.532841895 7.66311060305", 
        "Average/STD of number of recorded hops = "
       ]
      }, 
      {
       "output_type": "stream", 
       "stream": "stdout", 
       "text": [
        " 10.1892223049 "
       ]
      }, 
      {
       "output_type": "stream", 
       "stream": "stdout", 
       "text": [
        "4.07689936174"
       ]
      }
     ], 
     "prompt_number": 9
    }, 
    {
     "cell_type": "code", 
     "collapsed": false, 
     "input": [
      "#histogram of the number of measurements v/s number of hops", 
      "fig = figure(figsize = (14,4))", 
      "ax1 = fig.add_subplot(1,2,1)", 
      "df.groupby('hops').size().plot(kind='bar')", 
      "ax1.set_title('distribution of number of actual hops from src to dst')", 
      "ax2 = fig.add_subplot(1,2,2)", 
      "df.groupby('rhops').size().plot(kind='bar')", 
      "ax2.set_title('distribution of number of recorded hops from src to dst')", 
      "show()"
     ], 
     "language": "python", 
     "outputs": [
      {
       "output_type": "display_data", 
       "png": "[encoded data removed]"
      }
     ], 
     "prompt_number": 10
    }, 
    {
     "cell_type": "code", 
     "collapsed": false, 
     "input": [
      "ipHashDF.head()"
     ], 
     "language": "python", 
     "outputs": [
      {
       "html": [
        "<div style=\"max-height:1000px;max-width:1500px;overflow:auto;\">", 
        "<table border=\"1\" class=\"dataframe\">", 
        "  <thead>", 
        "    <tr style=\"text-align: right;\">", 
        "      <th></th>", 
        "      <th></th>", 
        "      <th>ip</th>", 
        "      <th>ip_int</th>", 
        "      <th>asn</th>", 
        "      <th>cc</th>", 
        "      <th>bgp_prefix</th>", 
        "    </tr>", 
        "    <tr>", 
        "      <th>path_num</th>", 
        "      <th>hop</th>", 
        "      <th></th>", 
        "      <th></th>", 
        "      <th></th>", 
        "      <th></th>", 
        "      <th></th>", 
        "    </tr>", 
        "  </thead>", 
        "  <tbody>", 
        "    <tr>", 
        "      <td rowspan=\"5\" valign=\"top\"><strong>0</strong></td>", 
        "      <td><strong>1</strong></td>", 
        "      <td> 115.132.110.118</td>", 
        "      <td> 1938058870</td>", 
        "      <td>  4788</td>", 
        "      <td> MY</td>", 
        "      <td>  115.132.64.0/18</td>", 
        "    </tr>", 
        "    <tr>", 
        "      <td><strong>2</strong></td>", 
        "      <td>  175.144.91.137</td>", 
        "      <td> 2945473417</td>", 
        "      <td>  4788</td>", 
        "      <td> MY</td>", 
        "      <td>  175.144.64.0/18</td>", 
        "    </tr>", 
        "    <tr>", 
        "      <td><strong>3</strong></td>", 
        "      <td>    10.55.208.75</td>", 
        "      <td>  171429963</td>", 
        "      <td>      </td>", 
        "      <td>  -</td>", 
        "      <td>                 </td>", 
        "    </tr>", 
        "    <tr>", 
        "      <td><strong>4</strong></td>", 
        "      <td>  203.192.169.37</td>", 
        "      <td> 3418401061</td>", 
        "      <td> 10026</td>", 
        "      <td> AU</td>", 
        "      <td> 203.192.128.0/18</td>", 
        "    </tr>", 
        "    <tr>", 
        "      <td><strong>5</strong></td>", 
        "      <td>   61.14.157.129</td>", 
        "      <td> 1024368001</td>", 
        "      <td> 10026</td>", 
        "      <td> JP</td>", 
        "      <td>   61.14.128.0/18</td>", 
        "    </tr>", 
        "  </tbody>", 
        "</table>", 
        "</div>"
       ], 
       "output_type": "pyout", 
       "prompt_number": 11, 
       "text": [
        "                           ip      ip_int    asn  cc        bgp_prefix", 
        "path_num hop                                                          ", 
        "0        1    115.132.110.118  1938058870   4788  MY   115.132.64.0/18", 
        "         2     175.144.91.137  2945473417   4788  MY   175.144.64.0/18", 
        "         3       10.55.208.75   171429963          -                  ", 
        "         4     203.192.169.37  3418401061  10026  AU  203.192.128.0/18", 
        "         5      61.14.157.129  1024368001  10026  JP    61.14.128.0/18"
       ]
      }
     ], 
     "prompt_number": 11
    }, 
    {
     "cell_type": "markdown", 
     "source": [
      "###Data Filtering", 
      "", 
      "* hops = 30 => failed packet if last hop != destination IP - may need to remove them", 
      "* lots of data with just 1 hop (and 0 or 1 recorded traceroute) - probably not useful - may need", 
      "to remove them if rhops = 0/1 - local GT", 
      "* sanity check: packet reaches if last hop = dstip, else can count as failure", 
      "* if same IP is repeated in traceroute entry, path may have changed during test (or it might be ", 
      "error below with num_hops)", 
      "* last hop IP == dstip and num_hops != last_hop_num - something happens at device - just ignore them for", 
      "now [talk to Srikanth]", 
      "* last hop IP != dstip and num_hops != last_hop_num - What to do with this?"
     ]
    }, 
    {
     "cell_type": "code", 
     "collapsed": true, 
     "input": [
      "#check if entries with nhop = 1 are local GT", 
      "#Remove local GT IPs with nhop = 1 and rhop = 0 or 1"
     ], 
     "language": "python", 
     "outputs": [], 
     "prompt_number": 12
    }, 
    {
     "cell_type": "code", 
     "collapsed": true, 
     "input": [
      "#number of failed traceroute tests: where we assume failure if last hop IP != dstip"
     ], 
     "language": "python", 
     "outputs": [], 
     "prompt_number": 13
    }, 
    {
     "cell_type": "code", 
     "collapsed": true, 
     "input": [
      "#same IP repeated in traceroute", 
      "# -- traceroute changed during test: repetitions not continuous (i.e. of the form ip1, ip2, ip1)", 
      "# -- error at dstip (where dstip == last hop ip but nhops != last hop number)", 
      "# ---- continuous repeats (i.e ip1,ip2,ip2): packet stuck -- does this happen only at the dstip", 
      "# or can it happen in the middle of traceroute too?"
     ], 
     "language": "python", 
     "outputs": [], 
     "prompt_number": 14
    }, 
    {
     "cell_type": "code", 
     "collapsed": true, 
     "input": [
      "#df2 = df[df.hops == 30]", 
      "#print \"nhops \\t dstip \\t last_hop_num \\t last_hop_ip\"", 
      "#for indx in df.index:", 
      "    #try:", 
      "        #if (df.ix[indx,'dstip'] == num2path[df.ix[indx,'ippath']][-1][1]) and df.ix[indx,'hops'] != num2path[df.ix[indx,'ippath']][-1][0]:", 
      "        #    print df.ix[indx,'hops'], df.ix[indx,'dstip'], num2path[df.ix[indx,'ippath']][-1]", 
      "    #except:", 
      "        #print \"Err\", df.ix[indx,'ippath'],df.ix[indx,'hops'], df.ix[indx,'rhops']", 
      "    #    pass"
     ], 
     "language": "python", 
     "outputs": [], 
     "prompt_number": 15
    }, 
    {
     "cell_type": "code", 
     "collapsed": true, 
     "input": [
      "#cases where last hop ip != dst ip AND number of hops != last hop number", 
      "#-- not sure what this means - should I neglect this?"
     ], 
     "language": "python", 
     "outputs": [], 
     "prompt_number": 16
    }, 
    {
     "cell_type": "code", 
     "collapsed": true, 
     "input": [
      "#A local IP occurs within the path (not at start)"
     ], 
     "language": "python", 
     "outputs": [], 
     "prompt_number": 17
    }, 
    {
     "cell_type": "markdown", 
     "source": [
      "##2. Paths and IPs", 
      "", 
      "A peak into utilization of each IP in our paths in our database. Use ipHashDF data frame and group on IPs.", 
      "Utilization (count) of each path. Plot path number v/s its usage in our 2 month data"
     ]
    }, 
    {
     "cell_type": "code", 
     "collapsed": false, 
     "input": [
      "#For direction == \"up\"", 
      "g1 = df[df['direction']=='up']", 
      "fig = figure(figsize = (14,4))", 
      "ax = fig.add_subplot(121)", 
      "g1.groupby('ippath').size().plot()", 
      "ax.set_title('Path count for direction UP')", 
      "ax.set_xlabel('path numbers')", 
      "ax.set_ylabel('occurrence')", 
      "#For direction == \"up\"", 
      "g2 = df[df['direction']=='dw']", 
      "ax = fig.add_subplot(122)", 
      "g2.groupby('ippath').size().plot()", 
      "ax.set_title('Path count for direction DOWN')", 
      "ax.set_xlabel('path numbers')", 
      "ax.set_ylabel('occurrence')"
     ], 
     "language": "python", 
     "outputs": [
      {
       "output_type": "pyout", 
       "prompt_number": 18, 
       "text": [
        "<matplotlib.text.Text at 0x1149b7ec>"
       ]
      }, 
      {
       "output_type": "display_data", 
       "png": "[encoded data removed]"
      }
     ], 
     "prompt_number": 18
    }, 
    {
     "cell_type": "markdown", 
     "source": [
      "In up path (from users to server) there are a many major paths each with count ~1000. In down path", 
      "(server to user) there is one major paths with count ~6000 and a couple of others with count ~1000.", 
      "", 
      "But these depend on the number of measurements in each direction.", 
      "We can look at number of different paths for each src-dst pair.", 
      "", 
      "Get number of paths for each such tuple and plot a histogram. This will tell us if paths are symmetric", 
      "in both directions? Generally they are not..."
     ]
    }, 
    {
     "cell_type": "code", 
     "collapsed": true, 
     "input": [
      "#up, src = BISMARK router, dst = server", 
      "grouped1 = g1.groupby(['deviceid','dstip'])", 
      "#down, src = server, dst = BISMARK router", 
      "grouped2 = g2.groupby(['deviceid','srcip'])", 
      "f1 = grouped1.agg({'ippath': lambda x: len(x.unique())})", 
      "f2 = grouped2.agg({'ippath': lambda x: len(x.unique())})"
     ], 
     "language": "python", 
     "outputs": [], 
     "prompt_number": 19
    }, 
    {
     "cell_type": "code", 
     "collapsed": false, 
     "input": [
      "fig = figure(figsize=(14,4))", 
      "ax = fig.add_subplot(121)", 
      "x1 = ax.hist(f1.values, bins=range(50))", 
      "ax.set_title('histogram num paths for each router-server pair UP')", 
      "ax.set_xlabel('Number of unique paths')", 
      "ax.grid(1)", 
      "ax = fig.add_subplot(122)", 
      "x2 = ax.hist(f1.values, bins=range(50))", 
      "ax.grid(1)", 
      "ax.set_title('histogram num paths for each router-server pair DW')", 
      "ax.set_xlabel('Number of unique paths')"
     ], 
     "language": "python", 
     "outputs": [
      {
       "output_type": "pyout", 
       "prompt_number": 20, 
       "text": [
        "<matplotlib.text.Text at 0xecb1e8c>"
       ]
      }, 
      {
       "output_type": "display_data", 
       "png": "[encoded data removed]"
      }
     ], 
     "prompt_number": 20
    }, 
    {
     "cell_type": "markdown", 
     "source": [
      "Histograms for upwards and downwards directions are very similar. Actually, number of unique paths ", 
      "vary till ~1000, but we are currently neglecting outliers (which are very low). Claim: These outliers are", 
      "probably because of too many missing hops in routers with large paths, or failed packets", 
      "<font color='red'>(Check this claim)</font>", 
      "", 
      "x-axis = number of unique paths; y-axis = number of src-dst pairs with that many unique paths"
     ]
    }, 
    {
     "cell_type": "code", 
     "collapsed": false, 
     "input": [
      "print \"*Distinct path utilization for Oct-Nov dataset*\"", 
      "print \"Just 1 path in UP and DW direction:\", x1[0][1],\"distinct router-server tuples\"", 
      "print \"2:5 unique paths in UP direction:\",sum(array(zip(*x1))[2:5,0]),\"distinct tuples\"", 
      "print \"2:5 unique paths in DW direction:\",sum(array(zip(*x2))[2:5,0]),\"distinct tuples\"", 
      "print \"6:30 unique paths in UP direction:\",sum(array(zip(*x1))[6:30,0]),\"distinct tuples\"", 
      "print \"6:30 unique paths in DW direction:\",sum(array(zip(*x2))[6:30,0]),\"distinct tuples\"", 
      "print \">30 unique paths in UP direction:\",sum(array(zip(*ax.hist(f1.values, bins=range(1000))))[30:,0]),\"distinct tuples\"", 
      "print \">30 unique paths in DW direction:\",sum(array(zip(*ax.hist(f2.values, bins=range(1000))))[30:,0]),\"distinct tuples\""
     ], 
     "language": "python", 
     "outputs": [
      {
       "output_type": "stream", 
       "stream": "stdout", 
       "text": [
        "*Distinct path utilization for Oct-Nov dataset*", 
        "Just 1 path in UP and DW direction: 34 distinct router-server tuples", 
        "2:5 unique paths in UP direction: 24 distinct tuples", 
        "2:5 unique paths in DW direction: 24 distinct tuples", 
        "6:30 unique paths in UP direction: 156 distinct tuples", 
        "6:30 unique paths in DW direction: 156 distinct tuples", 
        ">30 unique paths in UP direction: "
       ]
      }, 
      {
       "output_type": "stream", 
       "stream": "stdout", 
       "text": [
        "179 distinct tuples", 
        ">30 unique paths in DW direction: "
       ]
      }, 
      {
       "output_type": "stream", 
       "stream": "stdout", 
       "text": [
        "206 distinct tuples"
       ]
      }
     ], 
     "prompt_number": 21
    }, 
    {
     "cell_type": "markdown", 
     "source": [
      "We see that there are 24 tuples with 2-5 unique paths in UP and DW direction, and 156 others with", 
      "6-30 paths.", 
      "", 
      "In the next section we attempt to answer the following interesting questions about these paths:", 
      "<ol>", 
      "    <li><strong>Prevalence:</strong> What is the distribution in utilization of these paths? Is there just 1 major", 
      "        path while the rest are very rarely used, or are they all used to a similar degree? </li>", 
      "    <li><strong>Persistence:</strong> For how long a run do we use a particular path? When and why do we switch from", 
      "        one path to another. Is it related to the time of the day, or day of the week?</li>", 
      "    <li><strong>Path Difference:</strong> Most importantly, what is the relationship between these different paths?<ul>", 
      "        <li>Are they completely different from source to destination of traceroute or just one or 2 IPs", 
      "            are different?</li>", 
      "        <li>How different is each IP in each path? Does it lie in the same AS or the same local subnet", 
      "            (/24)?</li>", 
      "        <li>Are most of these different paths being counted because some router did not reply to an icmp", 
      "            ping (we call these events missing hops). This is because the mean path length is ~14 but only", 
      "            an average ~10 hops are recorded. Does this happen only for tuples with >10 unique paths or ", 
      "            even for tuples with 2-5 unique paths?</li>", 
      "        <li>Is there a way to avoid counting paths as separate if they happened just due to a missing hop?", 
      "            Can we design a dynamic program to update the paths such that missing hops are also added.", 
      "            Does this reduce the number of unique paths?<ul>", 
      "            <li>This program will depend on the statistical properties of the paths themselves.</li>", 
      "            <li>For example if we see 2 paths, P0 and P1, such that P1 has not recorded the traceroute IP at", 
      "            hop n, but is the same as P0 apart from that (P0^P1 = ip[n]), how feasible is it to assume that", 
      "            ip[n] was a missing hop i.e. P0 = P1? What if ip[n] for P1 is actually another path. Should we", 
      "                be conservative and give the ISP the benifit of the doubt?</li></ul>", 
      "        </li>", 
      "        </ul>", 
      "    </li>", 
      "</ol>", 
      "", 
      "Additionally, what about the particular IPs being used in each of these paths? Their utilization etc? Which", 
      "ISPs do they belong to...", 
      "            "
     ]
    }, 
    {
     "cell_type": "markdown", 
     "source": [
      "###2.1 Unique paths v/s prefix length"
     ]
    }, 
    {
     "cell_type": "code", 
     "collapsed": false, 
     "input": [
      "print iptoint('192.168.1.121')", 
      "print 2**32-1", 
      "inttoip(iptoint('192.168.1.121') & 2**32-1)"
     ], 
     "language": "python", 
     "outputs": [
      {
       "output_type": "stream", 
       "stream": "stdout", 
       "text": [
        "3232235897", 
        "4294967295"
       ]
      }, 
      {
       "output_type": "pyout", 
       "prompt_number": 97, 
       "text": [
        "'192.168.1.121'"
       ]
      }
     ], 
     "prompt_number": 97
    }, 
    {
     "cell_type": "code", 
     "collapsed": true, 
     "input": [
      "#ipHashDF.groupby(level='path_num').size()", 
      "def ip_prefix(plen,y):", 
      "    return inttoip(iptoint(y) & (2**32-1))", 
      "", 
      "def set_prefixlen(x):", 
      "    plen = 32", 
      "    x = list(x)", 
      "    new_x = []", 
      "    for k,v in x:", 
      "        print k,v", 
      "        new_x.append((k,ip_prefix(plen,v)))", 
      "    return tuple(new_x)", 
      "    ", 
      "p2n = list(path2num)", 
      "f = map(set_prefixlen, p2n[:3])", 
      "#for x in p2n[:3]:", 
      "#    print list(x)", 
      "f == p2n[:3]"
     ], 
     "language": "python", 
     "outputs": [
      {
       "ename": "TypeError", 
       "evalue": "Non-hexadecimal digit found", 
       "output_type": "pyerr", 
       "traceback": [
        "\u001b[1;31m---------------------------------------------------------------------------\u001b[0m\n\u001b[1;31mTypeError\u001b[0m                                 Traceback (most recent call last)", 
        "\u001b[1;32m/media/Common/Dropbox/BISmark/work/bismark_hop_path/<ipython-input-103-2449e8508bc1>\u001b[0m in \u001b[0;36m<module>\u001b[1;34m()\u001b[0m\n\u001b[0;32m     13\u001b[0m \u001b[1;33m\u001b[0m\u001b[0m\n\u001b[0;32m     14\u001b[0m \u001b[0mp2n\u001b[0m \u001b[1;33m=\u001b[0m \u001b[0mlist\u001b[0m\u001b[1;33m(\u001b[0m\u001b[0mpath2num\u001b[0m\u001b[1;33m)\u001b[0m\u001b[1;33m\u001b[0m\u001b[0m\n\u001b[1;32m---> 15\u001b[1;33m \u001b[0mf\u001b[0m \u001b[1;33m=\u001b[0m \u001b[0mmap\u001b[0m\u001b[1;33m(\u001b[0m\u001b[0mset_prefixlen\u001b[0m\u001b[1;33m,\u001b[0m \u001b[0mp2n\u001b[0m\u001b[1;33m[\u001b[0m\u001b[1;33m:\u001b[0m\u001b[1;36m3\u001b[0m\u001b[1;33m]\u001b[0m\u001b[1;33m)\u001b[0m\u001b[1;33m\u001b[0m\u001b[0m\n\u001b[0m\u001b[0;32m     16\u001b[0m \u001b[1;31m#for x in p2n[:3]:\u001b[0m\n\u001b[1;33m\u001b[0m\u001b[0m\n\u001b[0;32m     17\u001b[0m \u001b[1;31m#    print list(x)\u001b[0m\n\u001b[1;33m\u001b[0m\u001b[0m\n", 
        "\u001b[1;32m/media/Common/Dropbox/BISmark/work/bismark_hop_path/<ipython-input-103-2449e8508bc1>\u001b[0m in \u001b[0;36mset_prefixlen\u001b[1;34m(x)\u001b[0m\n\u001b[0;32m      9\u001b[0m     \u001b[1;32mfor\u001b[0m \u001b[0mk\u001b[0m\u001b[1;33m,\u001b[0m\u001b[0mv\u001b[0m \u001b[1;32min\u001b[0m \u001b[0mx\u001b[0m\u001b[1;33m:\u001b[0m\u001b[1;33m\u001b[0m\u001b[0m\n\u001b[0;32m     10\u001b[0m         \u001b[1;32mprint\u001b[0m \u001b[0mk\u001b[0m\u001b[1;33m,\u001b[0m\u001b[0mv\u001b[0m\u001b[1;33m\u001b[0m\u001b[0m\n\u001b[1;32m---> 11\u001b[1;33m         \u001b[0mnew_x\u001b[0m\u001b[1;33m.\u001b[0m\u001b[0mappend\u001b[0m\u001b[1;33m(\u001b[0m\u001b[1;33m(\u001b[0m\u001b[0mk\u001b[0m\u001b[1;33m,\u001b[0m\u001b[0mip_prefix\u001b[0m\u001b[1;33m(\u001b[0m\u001b[0mplen\u001b[0m\u001b[1;33m,\u001b[0m\u001b[0mv\u001b[0m\u001b[1;33m)\u001b[0m\u001b[1;33m)\u001b[0m\u001b[1;33m)\u001b[0m\u001b[1;33m\u001b[0m\u001b[0m\n\u001b[0m\u001b[0;32m     12\u001b[0m     \u001b[1;32mreturn\u001b[0m \u001b[0mtuple\u001b[0m\u001b[1;33m(\u001b[0m\u001b[0mnew_x\u001b[0m\u001b[1;33m)\u001b[0m\u001b[1;33m\u001b[0m\u001b[0m\n\u001b[0;32m     13\u001b[0m \u001b[1;33m\u001b[0m\u001b[0m\n", 
        "\u001b[1;32m/media/Common/Dropbox/BISmark/work/bismark_hop_path/<ipython-input-103-2449e8508bc1>\u001b[0m in \u001b[0;36mip_prefix\u001b[1;34m(plen, y)\u001b[0m\n\u001b[0;32m      1\u001b[0m \u001b[1;31m#ipHashDF.groupby(level='path_num').size()\u001b[0m\n\u001b[1;33m\u001b[0m\u001b[0m\n\u001b[0;32m      2\u001b[0m \u001b[1;32mdef\u001b[0m \u001b[0mip_prefix\u001b[0m\u001b[1;33m(\u001b[0m\u001b[0mplen\u001b[0m\u001b[1;33m,\u001b[0m\u001b[0my\u001b[0m\u001b[1;33m)\u001b[0m\u001b[1;33m:\u001b[0m\u001b[1;33m\u001b[0m\u001b[0m\n\u001b[1;32m----> 3\u001b[1;33m     \u001b[1;32mreturn\u001b[0m \u001b[0minttoip\u001b[0m\u001b[1;33m(\u001b[0m\u001b[0miptoint\u001b[0m\u001b[1;33m(\u001b[0m\u001b[0my\u001b[0m\u001b[1;33m)\u001b[0m \u001b[1;33m&\u001b[0m \u001b[1;33m(\u001b[0m\u001b[1;36m2\u001b[0m\u001b[1;33m**\u001b[0m\u001b[1;36m32\u001b[0m\u001b[1;33m-\u001b[0m\u001b[1;36m1\u001b[0m\u001b[1;33m)\u001b[0m\u001b[1;33m)\u001b[0m\u001b[1;33m\u001b[0m\u001b[0m\n\u001b[0m\u001b[0;32m      4\u001b[0m \u001b[1;33m\u001b[0m\u001b[0m\n\u001b[0;32m      5\u001b[0m \u001b[1;32mdef\u001b[0m \u001b[0mset_prefixlen\u001b[0m\u001b[1;33m(\u001b[0m\u001b[0mx\u001b[0m\u001b[1;33m)\u001b[0m\u001b[1;33m:\u001b[0m\u001b[1;33m\u001b[0m\u001b[0m\n", 
        "\u001b[1;32m/media/Common/Dropbox/BISmark/work/bismark_hop_path/v3/src/penalty.pyc\u001b[0m in \u001b[0;36minttoip\u001b[1;34m(ip)\u001b[0m\n\u001b[0;32m     23\u001b[0m         \u001b[1;32mreturn\u001b[0m \u001b[0msocket\u001b[0m\u001b[1;33m.\u001b[0m\u001b[0minet_ntoa\u001b[0m\u001b[1;33m(\u001b[0m\u001b[0mhex\u001b[0m\u001b[1;33m(\u001b[0m\u001b[0mip\u001b[0m\u001b[1;33m)\u001b[0m\u001b[1;33m[\u001b[0m\u001b[1;36m2\u001b[0m\u001b[1;33m:\u001b[0m\u001b[1;33m-\u001b[0m\u001b[1;36m1\u001b[0m\u001b[1;33m]\u001b[0m\u001b[1;33m.\u001b[0m\u001b[0mzfill\u001b[0m\u001b[1;33m(\u001b[0m\u001b[1;36m8\u001b[0m\u001b[1;33m)\u001b[0m\u001b[1;33m.\u001b[0m\u001b[0mdecode\u001b[0m\u001b[1;33m(\u001b[0m\u001b[1;34m'hex'\u001b[0m\u001b[1;33m)\u001b[0m\u001b[1;33m)\u001b[0m\u001b[1;33m\u001b[0m\u001b[0m\n\u001b[0;32m     24\u001b[0m     \u001b[1;32melse\u001b[0m\u001b[1;33m:\u001b[0m\u001b[1;33m\u001b[0m\u001b[0m\n\u001b[1;32m---> 25\u001b[1;33m         \u001b[1;32mreturn\u001b[0m \u001b[0msocket\u001b[0m\u001b[1;33m.\u001b[0m\u001b[0minet_ntoa\u001b[0m\u001b[1;33m(\u001b[0m\u001b[0mhex\u001b[0m\u001b[1;33m(\u001b[0m\u001b[0mip\u001b[0m\u001b[1;33m)\u001b[0m\u001b[1;33m[\u001b[0m\u001b[1;36m2\u001b[0m\u001b[1;33m:\u001b[0m\u001b[1;33m]\u001b[0m\u001b[1;33m.\u001b[0m\u001b[0mzfill\u001b[0m\u001b[1;33m(\u001b[0m\u001b[1;36m8\u001b[0m\u001b[1;33m)\u001b[0m\u001b[1;33m.\u001b[0m\u001b[0mdecode\u001b[0m\u001b[1;33m(\u001b[0m\u001b[1;34m'hex'\u001b[0m\u001b[1;33m)\u001b[0m\u001b[1;33m)\u001b[0m\u001b[1;33m\u001b[0m\u001b[0m\n\u001b[0m\u001b[0;32m     26\u001b[0m \u001b[1;32mdef\u001b[0m \u001b[0miptoint\u001b[0m\u001b[1;33m(\u001b[0m\u001b[0mip\u001b[0m\u001b[1;33m)\u001b[0m\u001b[1;33m:\u001b[0m\u001b[1;33m\u001b[0m\u001b[0m\n\u001b[0;32m     27\u001b[0m     \u001b[1;32mreturn\u001b[0m \u001b[0mint\u001b[0m\u001b[1;33m(\u001b[0m\u001b[0msocket\u001b[0m\u001b[1;33m.\u001b[0m\u001b[0minet_aton\u001b[0m\u001b[1;33m(\u001b[0m\u001b[0mip\u001b[0m\u001b[1;33m)\u001b[0m\u001b[1;33m.\u001b[0m\u001b[0mencode\u001b[0m\u001b[1;33m(\u001b[0m\u001b[1;34m'hex'\u001b[0m\u001b[1;33m)\u001b[0m\u001b[1;33m,\u001b[0m\u001b[1;36m16\u001b[0m\u001b[1;33m)\u001b[0m\u001b[1;33m\u001b[0m\u001b[0m\n", 
        "\u001b[1;32m/home/sar/epd-7.3-2-rh5-x86/lib/python2.7/encodings/hex_codec.pyc\u001b[0m in \u001b[0;36mhex_decode\u001b[1;34m(input, errors)\u001b[0m\n\u001b[0;32m     40\u001b[0m     \"\"\"\n\u001b[0;32m     41\u001b[0m     \u001b[1;32massert\u001b[0m \u001b[0merrors\u001b[0m \u001b[1;33m==\u001b[0m \u001b[1;34m'strict'\u001b[0m\u001b[1;33m\u001b[0m\u001b[0m\n\u001b[1;32m---> 42\u001b[1;33m     \u001b[0moutput\u001b[0m \u001b[1;33m=\u001b[0m \u001b[0mbinascii\u001b[0m\u001b[1;33m.\u001b[0m\u001b[0ma2b_hex\u001b[0m\u001b[1;33m(\u001b[0m\u001b[0minput\u001b[0m\u001b[1;33m)\u001b[0m\u001b[1;33m\u001b[0m\u001b[0m\n\u001b[0m\u001b[0;32m     43\u001b[0m     \u001b[1;32mreturn\u001b[0m \u001b[1;33m(\u001b[0m\u001b[0moutput\u001b[0m\u001b[1;33m,\u001b[0m \u001b[0mlen\u001b[0m\u001b[1;33m(\u001b[0m\u001b[0minput\u001b[0m\u001b[1;33m)\u001b[0m\u001b[1;33m)\u001b[0m\u001b[1;33m\u001b[0m\u001b[0m\n\u001b[0;32m     44\u001b[0m \u001b[1;33m\u001b[0m\u001b[0m\n", 
        "\u001b[1;31mTypeError\u001b[0m: Non-hexadecimal digit found"
       ]
      }, 
      {
       "output_type": "stream", 
       "stream": "stdout", 
       "text": [
        "1 38.106.70.129", 
        "2 154.54.1.29", 
        "3 154.54.24.150", 
        "4 154.54.41.13", 
        "5 154.54.42.202", 
        "6 154.54.28.50", 
        "7 154.54.81.34", 
        "8 38.20.35.150", 
        "9 38.101.220.162", 
        "10 143.215.254.97", 
        "11 143.215.253.137", 
        "1 38.106.70.129", 
        "2 154.54.30.137", 
        "3 154.54.24.150", 
        "4 154.54.26.169", 
        "5 154.54.1.121", 
        "6 154.54.28.58", 
        "7 154.54.81.34", 
        "8 38.20.35.150", 
        "9 38.101.220.162", 
        "10 130.207.254.187", 
        "11 130.207.254.46", 
        "12 130.207.251.8", 
        "13 143.215.131.240", 
        "1 143.215.131.1", 
        "2 130.207.251.1", 
        "3 130.207.254.45", 
        "4 130.207.254.185", 
        "5 65.114.55.137", 
        "6 67.14.8.190", 
        "8 4.69.138.190"
       ]
      }
     ], 
     "prompt_number": 103
    }, 
    {
     "cell_type": "code", 
     "collapsed": true, 
     "input": [
      "p2n[:3]"
     ], 
     "language": "python", 
     "outputs": [
      {
       "output_type": "pyout", 
       "prompt_number": 101, 
       "text": [
        "[((1, '38.106.70.129'),", 
        "  (2, '154.54.1.29'),", 
        "  (3, '154.54.24.150'),", 
        "  (4, '154.54.41.13'),", 
        "  (5, '154.54.42.202'),", 
        "  (6, '154.54.28.50'),", 
        "  (7, '154.54.81.34'),", 
        "  (8, '38.20.35.150'),", 
        "  (9, '38.101.220.162'),", 
        "  (10, '143.215.254.97'),", 
        "  (11, '143.215.253.137')),", 
        " ((1, '38.106.70.129'),", 
        "  (2, '154.54.30.137'),", 
        "  (3, '154.54.24.150'),", 
        "  (4, '154.54.26.169'),", 
        "  (5, '154.54.1.121'),", 
        "  (6, '154.54.28.58'),", 
        "  (7, '154.54.81.34'),", 
        "  (8, '38.20.35.150'),", 
        "  (9, '38.101.220.162'),", 
        "  (10, '130.207.254.187'),", 
        "  (11, '130.207.254.46'),", 
        "  (12, '130.207.251.8'),", 
        "  (13, '143.215.131.240')),", 
        " ((1, '143.215.131.1'),", 
        "  (2, '130.207.251.1'),", 
        "  (3, '130.207.254.45'),", 
        "  (4, '130.207.254.185'),", 
        "  (5, '65.114.55.137'),", 
        "  (6, '67.14.8.190'),", 
        "  (8, '4.69.138.190'),", 
        "  (9, '4.69.148.145'),", 
        "  (10, '4.69.143.221'),", 
        "  (11, '4.69.137.53'),", 
        "  (12, '4.69.143.125'),", 
        "  (13, '4.69.142.185'),", 
        "  (14, '212.73.241.14'),", 
        "  (15, '81.174.0.154'),", 
        "  (17, '78.134.121.255'))]"
       ]
      }
     ], 
     "prompt_number": 101
    }, 
    {
     "cell_type": "code", 
     "collapsed": true, 
     "input": [
      "f"
     ], 
     "language": "python", 
     "outputs": [
      {
       "output_type": "pyout", 
       "prompt_number": 104, 
       "text": [
        "[((1, '38.106.70.161'),", 
        "  (2, '154.54.1.61'),", 
        "  (3, '154.54.24.182'),", 
        "  (4, '154.54.41.45'),", 
        "  (5, '154.54.42.234'),", 
        "  (6, '154.54.28.18'),", 
        "  (7, '154.54.81.2'),", 
        "  (8, '38.20.35.182'),", 
        "  (9, '38.101.220.130'),", 
        "  (10, '143.215.254.65'),", 
        "  (11, '143.215.253.169')),", 
        " ((1, '38.106.70.161'),", 
        "  (2, '154.54.30.169'),", 
        "  (3, '154.54.24.182'),", 
        "  (4, '154.54.26.137'),", 
        "  (5, '154.54.1.89'),", 
        "  (6, '154.54.28.26'),", 
        "  (7, '154.54.81.2'),", 
        "  (8, '38.20.35.182'),", 
        "  (9, '38.101.220.130'),", 
        "  (10, '130.207.254.155'),", 
        "  (11, '130.207.254.14'),", 
        "  (12, '130.207.251.40'),", 
        "  (13, '143.215.131.208')),", 
        " ((1, '143.215.131.33'),", 
        "  (2, '130.207.251.33'),", 
        "  (3, '130.207.254.13'),", 
        "  (4, '130.207.254.153'),", 
        "  (5, '65.114.55.169'),", 
        "  (6, '67.14.8.158'),", 
        "  (8, '4.69.138.158'),", 
        "  (9, '4.69.148.177'),", 
        "  (10, '4.69.143.253'),", 
        "  (11, '4.69.137.21'),", 
        "  (12, '4.69.143.93'),", 
        "  (13, '4.69.142.153'),", 
        "  (14, '212.73.241.46'),", 
        "  (15, '81.174.0.186'),", 
        "  (17, '78.134.121.223'))]"
       ]
      }
     ], 
     "prompt_number": 104
    }, 
    {
     "cell_type": "markdown", 
     "source": [
      "### 2.2 Major path and minor path percentages"
     ]
    }, 
    {
     "cell_type": "code", 
     "collapsed": true, 
     "input": [], 
     "language": "python", 
     "outputs": []
    }, 
    {
     "cell_type": "markdown", 
     "source": [
      "##AS level stats", 
      "Convert ipHashDF['ip'] to ipHashDF['ASN'] using BulkWhoIs - done in first section (load offline)", 
      "", 
      "* Can also check inter-AS loops if any", 
      "* Can check time spent on each AS (by enter hop number and exit hop number to each AS)"
     ]
    }, 
    {
     "cell_type": "code", 
     "collapsed": false, 
     "input": [
      "count_asn = ipHashDF.groupby('asn').size()", 
      "print \"Number of separate AS seen in data =\", len(count_asn)", 
      "print \"ASN\", count_asn.index[argmax(count_asn)],\"seen\", max(count_asn), \"times\"", 
      "ipHashDF[ipHashDF['asn'] == '174'].groupby(['asn','cc','bgp_prefix']).size()"
     ], 
     "language": "python", 
     "outputs": [
      {
       "output_type": "stream", 
       "stream": "stdout", 
       "text": [
        "Number of separate AS seen in data = 142", 
        "ASN 174 seen 108509 times"
       ]
      }, 
      {
       "output_type": "pyout", 
       "prompt_number": 22, 
       "text": [
        "asn  cc  bgp_prefix    ", 
        "174  US  130.117.0.0/16     2416", 
        "         149.6.0.0/15       2584", 
        "         154.48.0.0/12     77766", 
        "         38.0.0.0/8        25026", 
        "         66.28.0.0/16        717"
       ]
      }
     ], 
     "prompt_number": 22
    }, 
    {
     "cell_type": "markdown", 
     "source": [
      "###2.3 Distribution of number of hops spent in one AS"
     ]
    }, 
    {
     "cell_type": "markdown", 
     "source": [
      "####paths with a local IP hop"
     ]
    }, 
    {
     "cell_type": "code", 
     "collapsed": false, 
     "input": [
      "localIPhoppaths = ipHashDF[ipHashDF['asn']==''].groupby(level='path_num').size()", 
      "print \"Number of paths with local IP hops = \", len(localIPhoppaths)", 
      "indx = localIPhoppaths.index", 
      "local = df.ix[indx, ['dstip','srcip', 'deviceid', 'direction', 'time', 'date']]", 
      "local['nlocal_hops'] = localIPhoppaths", 
      "local.to_csv('v4/proc_data/localhops.csv')"
     ], 
     "language": "python", 
     "outputs": [
      {
       "output_type": "stream", 
       "stream": "stdout", 
       "text": [
        "Number of paths with local IP hops =  19881"
       ]
      }
     ], 
     "prompt_number": 30
    }, 
    {
     "cell_type": "markdown", 
     "source": [
      "#Paxon's metrics", 
      "##1. Routing pathologies", 
      "###1.1 Routing loops", 
      "<font color = 'red'>TODO:</font> If same set of router IPs are reported in a traceroute (AT DIFFERENT", 
      "POSITIONS AND NOT CONTINUOUS) - should NEVER happen according to BGP", 
      "", 
      "May also happen if path changes between test?"
     ]
    }, 
    {
     "cell_type": "code", 
     "collapsed": true, 
     "input": [
      "#check paths database for repeated IPs", 
      "for k,v in num2path.iteritems():", 
      "    try:", 
      "        path = zip(*v)[1]", 
      "    except:", 
      "        print k", 
      "    dup_path = []", 
      "    if len(path)!=len(set(path)):", 
      "        print \"path number with duplicates = \",k", 
      "        dup_path.append(k)"
     ], 
     "language": "python", 
     "outputs": []
    }, 
    {
     "cell_type": "code", 
     "collapsed": true, 
     "input": [
      "num2path[226]", 
      "for k,v in path2num.iteritems():", 
      "    if v==226:", 
      "        print path2num.popitem()"
     ], 
     "language": "python", 
     "outputs": []
    }, 
    {
     "cell_type": "code", 
     "collapsed": true, 
     "input": [
      "df[df.ippath==226].groupby(['hops']).size()"
     ], 
     "language": "python", 
     "outputs": []
    }, 
    {
     "cell_type": "markdown", 
     "source": [
      "###1.2 Erroneous routing", 
      "<font color = 'red'>TODO:</font> should be checked using geo info: if loop takes longer distance when", 
      "shorter is available etc", 
      "###1.3 Connectivity altered mid-stream", 
      "<font color = 'red'>TODO:</font> routing connectivity reported earlier in the traceroute is later lost or", 
      "altered - how should I check this?"
     ]
    }, 
    {
     "cell_type": "markdown", 
     "source": [
      "###1.4 Fluttering", 
      "rapid alternating routing", 
      "###1.5 Infrastructure failures", 
      "###1.6 Unreachable due to many hops", 
      "###1.7 Temporary outages", 
      "###1.8 Time-of-day patterns", 
      "###1.9 Representative pathologies", 
      "###1.10Summary of pathologies"
     ]
    }, 
    {
     "cell_type": "code", 
     "collapsed": false, 
     "input": [
      "#packet failure if last hop ip != dstip", 
      "failure = 0", 
      "success = 0", 
      "for indx in df.index:", 
      "    try:", 
      "        if (df.ix[indx,'dstip'] != num2path[df.ix[indx,'ippath']][-1][1]):", 
      "            failure+=1", 
      "        else:", 
      "            success+=1", 
      "    except:", 
      "        pass", 
      "print \"Failed packets in Oct-Nov '12 data =\", failure", 
      "print \"Successful packets in Oct-Nov '12 data =\", success", 
      "print \"Failure rate for ICMP packets =\", failure/float(failure+success)*100, \"%\""
     ], 
     "language": "python", 
     "outputs": [
      {
       "output_type": "stream", 
       "stream": "stdout", 
       "text": [
        "Failed packets in Oct-Nov '12 data = 62869", 
        "Successful packets in Oct-Nov '12 data = 182406", 
        "Failure rate for ICMP packets = 25.632045663 %"
       ]
      }
     ], 
     "prompt_number": 15
    }, 
    {
     "cell_type": "markdown", 
     "source": [
      "##2 End-to-end routing stability", 
      "###2.1 Routing Prevalence", 
      "###2.2 Routing Persistence", 
      "####2.2.1 Rapid route alteration", 
      "####2.2.2 Medium-scale route alteration", 
      "####2.2.3 Large-scale route alternation", 
      "####2.2.4 Duration of long-lived routes", 
      "####2.2.5 Summary of routing persistence"
     ]
    }, 
    {
     "cell_type": "markdown", 
     "source": [
      "##3 Routing symmetry", 
      "###3.1 Importance of routing symmetry", 
      "###3.2 Analysis of routing symmetry", 
      "###3.3 Increase prevalence of asymmetry", 
      "###3.4 Size of asymmetrics"
     ]
    }, 
    {
     "cell_type": "markdown", 
     "source": [
      "#Geographical stats", 
      "* Use city, country to compare hop at AS level with geographical distance between the hops", 
      " - have country data from whois but no city data yet..."
     ]
    }, 
    {
     "cell_type": "markdown", 
     "source": []
    }
   ]
  }
 ]
}